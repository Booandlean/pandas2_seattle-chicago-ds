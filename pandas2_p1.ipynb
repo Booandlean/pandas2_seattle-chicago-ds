{
 "cells": [
  {
   "cell_type": "markdown",
   "metadata": {},
   "source": [
    "# More Pandas"
   ]
  },
  {
   "cell_type": "markdown",
   "metadata": {},
   "source": [
    "![more_pandas](https://media.giphy.com/media/H0Qi5W2KzU5UI/giphy.gif)"
   ]
  },
  {
   "cell_type": "markdown",
   "metadata": {},
   "source": [
    "### Scenario\n",
    "You have decided that you want to start your own animal shelter, but you want to get an idea of what that will entail and to get more information about planning. In this lecture, we'll look at a real data set collected by Austin Animal Center over several years and use our pandas skills from the last lecture and learn some new ones in order to explore these data further.\n",
    "\n"
   ]
  },
  {
   "cell_type": "markdown",
   "metadata": {},
   "source": [
    "\n",
    "#### Our goals in this notebook are to be able to: <br/>\n",
    "\n",
    "- Apply and use `.map()` and `.applymap()` from the Pandas library\n",
    "- Review lambda functions and use them in coordination with above functions\n",
    "- Explain what a groupby object is and split a DataFrame using `.groupby()`\n",
    "- Change the dtype of a column to datetime and interact with a datetime object"
   ]
  },
  {
   "cell_type": "markdown",
   "metadata": {},
   "source": [
    "#### Getting started\n",
    "\n",
    "Let's take a moment to download and to examine the [Austin Animal Center data set](https://data.austintexas.gov/Health-and-Community-Services/Austin-Animal-Center-Outcomes/9t4d-g238/data). \n",
    "\n",
    "Let's take a look at the data:"
   ]
  },
  {
   "cell_type": "code",
   "execution_count": null,
   "metadata": {},
   "outputs": [],
   "source": [
    "import numpy as np\n",
    "import pandas as pd\n",
    "import requests\n",
    "\n",
    "url = 'https://data.austintexas.gov/resource/9t4d-g238.json'\n",
    "response = requests.get(url)\n",
    "animals = pd.DataFrame(response.json())\n",
    "animals.head()"
   ]
  },
  {
   "cell_type": "markdown",
   "metadata": {},
   "source": [
    "![hive mind](https://media.giphy.com/media/l0MYttFGk98Y4e4h2/giphy.gif)\n"
   ]
  },
  {
   "cell_type": "markdown",
   "metadata": {},
   "source": [
    "What kinds of questions can we ask these data and what kinds of information can we get back?\n",
    "Start filling in the [group question doc](https://docs.google.com/document/d/15VFVdzx1-oFHuzal9xcNvXgr9QMtwbqIzpIzpzfzhFM/edit) together.  You can either add an individual question, or contribute to filling out another students question.  "
   ]
  },
  {
   "cell_type": "markdown",
   "metadata": {},
   "source": [
    "# Quick Exploration"
   ]
  },
  {
   "cell_type": "code",
   "execution_count": null,
   "metadata": {},
   "outputs": [],
   "source": [
    "animals.info()"
   ]
  },
  {
   "cell_type": "code",
   "execution_count": null,
   "metadata": {},
   "outputs": [],
   "source": [
    "animals.describe()"
   ]
  },
  {
   "cell_type": "code",
   "execution_count": null,
   "metadata": {},
   "outputs": [],
   "source": [
    "# Let's apply a bit of what we learned on Friday and investigate na's\n",
    "animals.isna().sum()"
   ]
  },
  {
   "cell_type": "code",
   "execution_count": null,
   "metadata": {},
   "outputs": [],
   "source": [
    "animals['name'] = animals['name'].fillna('unnamed')"
   ]
  },
  {
   "cell_type": "code",
   "execution_count": null,
   "metadata": {},
   "outputs": [],
   "source": [
    "animals.fillna('no_type_or_subtype', inplace=True)"
   ]
  },
  {
   "cell_type": "code",
   "execution_count": null,
   "metadata": {},
   "outputs": [],
   "source": [
    "animals.isna().sum()"
   ]
  },
  {
   "cell_type": "markdown",
   "metadata": {},
   "source": [
    "### 1. Applying and using map and applymap from the Pandas library"
   ]
  },
  {
   "cell_type": "markdown",
   "metadata": {},
   "source": [
    "The built in **map** operator takes a function and applies it to every element of an iterable"
   ]
  },
  {
   "cell_type": "markdown",
   "metadata": {},
   "source": [
    "Map is an example of Python's implementation of [functional programming](https://docs.python.org/3/howto/functional.html), which we won't spend much lecture time on, except a brief description of the difference between OOP and functional.  In OOP, objects have changing state.  A DataFrame object has an attribute shape which outputs the number of rows and columns.  Dropping rows changes the underlying object and its attribute: the shape attribute has changed to reflect the reduced number of rows.  Functional programming relies on functions (like we've learned to write in Python) which take inputs and produce outputs, instead of relying on changing state of objects.  Some functional programming languages are Haskell and Lisp. "
   ]
  },
  {
   "cell_type": "code",
   "execution_count": null,
   "metadata": {},
   "outputs": [],
   "source": [
    "def divisible_by_5(number):\n",
    "    \n",
    "    '''\n",
    "    Parameter: an integer\n",
    "    return numbers divisible by five\n",
    "    '''\n",
    "    \n",
    "    if number % 5 == 0:\n",
    "        return True\n",
    "    else:\n",
    "        return False\n",
    "\n",
    "numbers = [17,29,30045, 125]\n",
    "\n",
    "list(map(divisible_by_5, numbers))"
   ]
  },
  {
   "cell_type": "markdown",
   "metadata": {},
   "source": [
    "The Pandas library has several similar methods associated with Dataframes and Series. Let's explore them."
   ]
  },
  {
   "cell_type": "markdown",
   "metadata": {},
   "source": [
    "# DataFrame.applymap(),  Series.apply(), and DataFrame.apply()"
   ]
  },
  {
   "cell_type": "markdown",
   "metadata": {},
   "source": [
    "## DataFrame.applymap()\n",
    "The ```.applymap()``` method takes a function as input that it will then apply to every entry in the dataframe."
   ]
  },
  {
   "cell_type": "code",
   "execution_count": null,
   "metadata": {},
   "outputs": [],
   "source": [
    "def long_string(string):\n",
    "    '''\n",
    "    Parameter: a string\n",
    "    returns: a boolean denoting whether it is \n",
    "    longer than 10 characters\n",
    "    '''\n",
    "    \n",
    "    if len(string) > 10:\n",
    "        return True\n",
    "    else:\n",
    "        return False"
   ]
  },
  {
   "cell_type": "code",
   "execution_count": null,
   "metadata": {},
   "outputs": [],
   "source": [
    "\n",
    "animals_strings = animals.applymap(str)\n",
    "animals_strings.applymap(long_string)"
   ]
  },
  {
   "cell_type": "markdown",
   "metadata": {},
   "source": [
    "The **.map()** method takes a function as input that it will then apply to every entry in the Series."
   ]
  },
  {
   "cell_type": "markdown",
   "metadata": {},
   "source": [
    "Let's write a function to consolodate sex_upon_outcome to male, female, or unknown   \n",
    "\n",
    "First, explore the unique values:"
   ]
  },
  {
   "cell_type": "code",
   "execution_count": null,
   "metadata": {},
   "outputs": [],
   "source": [
    "animals['sex_upon_outcome'].unique()"
   ]
  },
  {
   "cell_type": "code",
   "execution_count": null,
   "metadata": {},
   "outputs": [],
   "source": [
    "# we could also us np.unique() with the return_counts parameter\n",
    "\n",
    "np.unique(animals['sex_upon_outcome'], return_counts=True)\n"
   ]
  },
  {
   "cell_type": "code",
   "execution_count": 84,
   "metadata": {},
   "outputs": [
    {
     "output_type": "execute_result",
     "data": {
      "text/plain": "0      female\n1      female\n2      female\n3      female\n4        male\n        ...  \n995    female\n996    female\n997      male\n998      male\n999    female\nName: sex_upon_outcome, Length: 1000, dtype: object"
     },
     "metadata": {},
     "execution_count": 84
    }
   ],
   "source": [
    "def male_or_female(value_from_series):\n",
    "    \n",
    "    \"\"\"\n",
    "    This is a docstring...\n",
    "    \n",
    "    Parameter: a value from the age_upon_outcome series\n",
    "    in the Austin Animal Shelter dataset.  \n",
    "    There are five possible values:\n",
    "    Spayed Female', 'Unknown', 'Intact Female', 'Intact Male',\n",
    "       'Neutered Male'\n",
    "       \n",
    "    Returns:\n",
    "    female, male, unknown\n",
    "    \n",
    "    \"\"\"\n",
    "    \n",
    "    if 'female' in value_from_series.lower():\n",
    "        return 'female'\n",
    "    \n",
    "    #Add a space before male to ensure that female is not included\n",
    "    elif ' male' in value_from_series.lower():\n",
    "        return 'male'\n",
    "    \n",
    "    else:\n",
    "        return 'unknown'\n",
    "    \n",
    "    \n",
    "animals['sex_upon_outcome'].apply(male_or_female)   "
   ]
  },
  {
   "cell_type": "code",
   "execution_count": 85,
   "metadata": {},
   "outputs": [
    {
     "output_type": "execute_result",
     "data": {
      "text/plain": "  animal_id       name                 datetime                monthyear  \\\n0   A817445     Girlie  2020-05-17T13:53:00.000  2020-05-17T13:53:00.000   \n1   A817061  *Nancy Jo  2020-05-17T13:52:00.000  2020-05-17T13:52:00.000   \n2   A817198      *Moon  2020-05-17T13:04:00.000  2020-05-17T13:04:00.000   \n3   A817154  *Marinara  2020-05-17T12:21:00.000  2020-05-17T12:21:00.000   \n4   A816636      Sugar  2020-05-17T12:03:00.000  2020-05-17T12:03:00.000   \n\n  date_of_birth outcome_type     outcome_subtype animal_type sex_upon_outcome  \\\n0    2011-05-16     Transfer             Partner         Dog    Spayed Female   \n1    2019-08-07     Adoption  no_type_or_subtype         Dog    Spayed Female   \n2    2019-05-09         Died           In Foster         Cat    Intact Female   \n3    2019-11-24     Adoption  no_type_or_subtype         Dog    Spayed Female   \n4    2019-05-14    Rto-Adopt  no_type_or_subtype         Cat    Neutered Male   \n\n  age_upon_outcome                                     breed          color  \\\n0          9 years                       Chihuahua Shorthair          Brown   \n1         9 months                       German Shepherd Mix    Black/Brown   \n2           1 year                                   Siamese     Blue Point   \n3         5 months  Australian Cattle Dog/Labrador Retriever  Black Brindle   \n4           1 year                        Domestic Shorthair    Brown Tabby   \n\n   days_upon_outcome     sex  \n0             3285.0  female  \n1             3285.0  female  \n2              365.0  female  \n3             1825.0  female  \n4              365.0    male  ",
      "text/html": "<div>\n<style scoped>\n    .dataframe tbody tr th:only-of-type {\n        vertical-align: middle;\n    }\n\n    .dataframe tbody tr th {\n        vertical-align: top;\n    }\n\n    .dataframe thead th {\n        text-align: right;\n    }\n</style>\n<table border=\"1\" class=\"dataframe\">\n  <thead>\n    <tr style=\"text-align: right;\">\n      <th></th>\n      <th>animal_id</th>\n      <th>name</th>\n      <th>datetime</th>\n      <th>monthyear</th>\n      <th>date_of_birth</th>\n      <th>outcome_type</th>\n      <th>outcome_subtype</th>\n      <th>animal_type</th>\n      <th>sex_upon_outcome</th>\n      <th>age_upon_outcome</th>\n      <th>breed</th>\n      <th>color</th>\n      <th>days_upon_outcome</th>\n      <th>sex</th>\n    </tr>\n  </thead>\n  <tbody>\n    <tr>\n      <th>0</th>\n      <td>A817445</td>\n      <td>Girlie</td>\n      <td>2020-05-17T13:53:00.000</td>\n      <td>2020-05-17T13:53:00.000</td>\n      <td>2011-05-16</td>\n      <td>Transfer</td>\n      <td>Partner</td>\n      <td>Dog</td>\n      <td>Spayed Female</td>\n      <td>9 years</td>\n      <td>Chihuahua Shorthair</td>\n      <td>Brown</td>\n      <td>3285.0</td>\n      <td>female</td>\n    </tr>\n    <tr>\n      <th>1</th>\n      <td>A817061</td>\n      <td>*Nancy Jo</td>\n      <td>2020-05-17T13:52:00.000</td>\n      <td>2020-05-17T13:52:00.000</td>\n      <td>2019-08-07</td>\n      <td>Adoption</td>\n      <td>no_type_or_subtype</td>\n      <td>Dog</td>\n      <td>Spayed Female</td>\n      <td>9 months</td>\n      <td>German Shepherd Mix</td>\n      <td>Black/Brown</td>\n      <td>3285.0</td>\n      <td>female</td>\n    </tr>\n    <tr>\n      <th>2</th>\n      <td>A817198</td>\n      <td>*Moon</td>\n      <td>2020-05-17T13:04:00.000</td>\n      <td>2020-05-17T13:04:00.000</td>\n      <td>2019-05-09</td>\n      <td>Died</td>\n      <td>In Foster</td>\n      <td>Cat</td>\n      <td>Intact Female</td>\n      <td>1 year</td>\n      <td>Siamese</td>\n      <td>Blue Point</td>\n      <td>365.0</td>\n      <td>female</td>\n    </tr>\n    <tr>\n      <th>3</th>\n      <td>A817154</td>\n      <td>*Marinara</td>\n      <td>2020-05-17T12:21:00.000</td>\n      <td>2020-05-17T12:21:00.000</td>\n      <td>2019-11-24</td>\n      <td>Adoption</td>\n      <td>no_type_or_subtype</td>\n      <td>Dog</td>\n      <td>Spayed Female</td>\n      <td>5 months</td>\n      <td>Australian Cattle Dog/Labrador Retriever</td>\n      <td>Black Brindle</td>\n      <td>1825.0</td>\n      <td>female</td>\n    </tr>\n    <tr>\n      <th>4</th>\n      <td>A816636</td>\n      <td>Sugar</td>\n      <td>2020-05-17T12:03:00.000</td>\n      <td>2020-05-17T12:03:00.000</td>\n      <td>2019-05-14</td>\n      <td>Rto-Adopt</td>\n      <td>no_type_or_subtype</td>\n      <td>Cat</td>\n      <td>Neutered Male</td>\n      <td>1 year</td>\n      <td>Domestic Shorthair</td>\n      <td>Brown Tabby</td>\n      <td>365.0</td>\n      <td>male</td>\n    </tr>\n  </tbody>\n</table>\n</div>"
     },
     "metadata": {},
     "execution_count": 85
    }
   ],
   "source": [
    "# We can now make a new column, sex:\n",
    "    \n",
    "animals['sex'] = animals['sex_upon_outcome'].apply(male_or_female)\n",
    "animals.head()"
   ]
  },
  {
   "cell_type": "markdown",
   "metadata": {},
   "source": [
    "Now let's have some fun.  Let's convert age upon outcome to days, using map():"
   ]
  },
  {
   "cell_type": "code",
   "execution_count": null,
   "metadata": {
    "collapsed": true,
    "jupyter": {
     "outputs_hidden": true
    }
   },
   "outputs": [],
   "source": [
    "# First, checkout what happens when we split on a space\n",
    "\n",
    "list(animals['age_upon_outcome'].str.split(' '))"
   ]
  },
  {
   "cell_type": "markdown",
   "metadata": {},
   "source": [
    "# Pair program #1: \n",
    "Take 5 minutes to fill in the function below with code that converts age upon outcome to days upon outcome."
   ]
  },
  {
   "cell_type": "code",
   "execution_count": null,
   "metadata": {},
   "outputs": [],
   "source": [
    "# check what values we have for time frame\n",
    "unit_values = [age[0] if age[0] == 'NULL' \n",
    "               else age[1] for age in \n",
    "               animals['age_upon_outcome'].str.split(' ')]\n",
    "set(unit_values)"
   ]
  },
  {
   "cell_type": "markdown",
   "metadata": {},
   "source": [
    "Now, fill in the definition below to convert the ages to days"
   ]
  },
  {
   "cell_type": "code",
   "execution_count": null,
   "metadata": {},
   "outputs": [],
   "source": [
    "\n",
    "def age_to_days(age):\n",
    "    \n",
    "    '''\n",
    "    params: age upon outcome of shelter animal. \n",
    "    A number followed by a unit of time \n",
    "    'NULL', 'days', 'month', 'months', 'week', 'weeks', 'year', 'years'\n",
    "    \n",
    "    returns: days old at outcome\n",
    "    '''\n",
    "    \n",
    "    age_split = age.split(' ')\n",
    "    \n",
    "    if len(age_split) == 1:\n",
    "        return 'NULL'\n",
    "    \n",
    "    elif ... :\n",
    "        return\n",
    "    \n",
    "    elif ... :\n",
    "         pass\n",
    "    \n",
    "    elif ... :\n",
    "         pass\n",
    "    \n",
    "    else:\n",
    "         pass\n",
    "    \n",
    "    \n",
    "animals['age_upon_outcome'].map(age_to_days)\n"
   ]
  },
  {
   "cell_type": "code",
   "execution_count": null,
   "metadata": {},
   "outputs": [],
   "source": [
    "#__SOLUTION__\n",
    "def age_to_days(age):\n",
    "    \n",
    "    '''\n",
    "    params: age upon outcome of shelter animal. \n",
    "    A number followed by a unit of time \n",
    "    'NULL', 'days', 'month', 'months', 'week', 'weeks', 'year', 'years'\n",
    "    \n",
    "    returns: days old at outcome\n",
    "    '''\n",
    "    \n",
    "    age_split = age.split(' ')\n",
    "    \n",
    "    if len(age_split) == 1:\n",
    "        return np.nan\n",
    "    \n",
    "    elif age_split[1] == 'days' :\n",
    "        return int(age_split[0])\n",
    "    \n",
    "    elif age_split[1] in (['month' or 'months']):\n",
    "        return int(age_split[0]) * 30\n",
    "    \n",
    "    elif age_split[1] in ['week' or 'weeks'] :\n",
    "        return int(age_split[0]) * 7\n",
    "    \n",
    "    else:\n",
    "        return int(age_split[0]) * 365\n",
    "    \n",
    "    \n",
    "animals['days_upon_outcome'] = animals['age_upon_outcome'].map(age_to_days)\n"
   ]
  },
  {
   "cell_type": "markdown",
   "metadata": {},
   "source": [
    "# DataFrame.apply()"
   ]
  },
  {
   "cell_type": "code",
   "execution_count": 96,
   "metadata": {},
   "outputs": [
    {
     "output_type": "execute_result",
     "data": {
      "text/plain": "  animal_id       name                 datetime                monthyear  \\\n0   A817445     Girlie  2020-05-17T13:53:00.000  2020-05-17T13:53:00.000   \n1   A817061  *Nancy Jo  2020-05-17T13:52:00.000  2020-05-17T13:52:00.000   \n2   A817198      *Moon  2020-05-17T13:04:00.000  2020-05-17T13:04:00.000   \n3   A817154  *Marinara  2020-05-17T12:21:00.000  2020-05-17T12:21:00.000   \n4   A816636      Sugar  2020-05-17T12:03:00.000  2020-05-17T12:03:00.000   \n\n  date_of_birth outcome_type     outcome_subtype animal_type sex_upon_outcome  \\\n0    2011-05-16     Transfer             Partner         Dog    Spayed Female   \n1    2019-08-07     Adoption  no_type_or_subtype         Dog    Spayed Female   \n2    2019-05-09         Died           In Foster         Cat    Intact Female   \n3    2019-11-24     Adoption  no_type_or_subtype         Dog    Spayed Female   \n4    2019-05-14    Rto-Adopt  no_type_or_subtype         Cat    Neutered Male   \n\n  age_upon_outcome                                     breed          color  \\\n0          9 years                       Chihuahua Shorthair          Brown   \n1         9 months                       German Shepherd Mix    Black/Brown   \n2           1 year                                   Siamese     Blue Point   \n3         5 months  Australian Cattle Dog/Labrador Retriever  Black Brindle   \n4           1 year                        Domestic Shorthair    Brown Tabby   \n\n   days_upon_outcome     sex  \n0             3285.0  female  \n1             3285.0  female  \n2              365.0  female  \n3             1825.0  female  \n4              365.0    male  ",
      "text/html": "<div>\n<style scoped>\n    .dataframe tbody tr th:only-of-type {\n        vertical-align: middle;\n    }\n\n    .dataframe tbody tr th {\n        vertical-align: top;\n    }\n\n    .dataframe thead th {\n        text-align: right;\n    }\n</style>\n<table border=\"1\" class=\"dataframe\">\n  <thead>\n    <tr style=\"text-align: right;\">\n      <th></th>\n      <th>animal_id</th>\n      <th>name</th>\n      <th>datetime</th>\n      <th>monthyear</th>\n      <th>date_of_birth</th>\n      <th>outcome_type</th>\n      <th>outcome_subtype</th>\n      <th>animal_type</th>\n      <th>sex_upon_outcome</th>\n      <th>age_upon_outcome</th>\n      <th>breed</th>\n      <th>color</th>\n      <th>days_upon_outcome</th>\n      <th>sex</th>\n    </tr>\n  </thead>\n  <tbody>\n    <tr>\n      <th>0</th>\n      <td>A817445</td>\n      <td>Girlie</td>\n      <td>2020-05-17T13:53:00.000</td>\n      <td>2020-05-17T13:53:00.000</td>\n      <td>2011-05-16</td>\n      <td>Transfer</td>\n      <td>Partner</td>\n      <td>Dog</td>\n      <td>Spayed Female</td>\n      <td>9 years</td>\n      <td>Chihuahua Shorthair</td>\n      <td>Brown</td>\n      <td>3285.0</td>\n      <td>female</td>\n    </tr>\n    <tr>\n      <th>1</th>\n      <td>A817061</td>\n      <td>*Nancy Jo</td>\n      <td>2020-05-17T13:52:00.000</td>\n      <td>2020-05-17T13:52:00.000</td>\n      <td>2019-08-07</td>\n      <td>Adoption</td>\n      <td>no_type_or_subtype</td>\n      <td>Dog</td>\n      <td>Spayed Female</td>\n      <td>9 months</td>\n      <td>German Shepherd Mix</td>\n      <td>Black/Brown</td>\n      <td>3285.0</td>\n      <td>female</td>\n    </tr>\n    <tr>\n      <th>2</th>\n      <td>A817198</td>\n      <td>*Moon</td>\n      <td>2020-05-17T13:04:00.000</td>\n      <td>2020-05-17T13:04:00.000</td>\n      <td>2019-05-09</td>\n      <td>Died</td>\n      <td>In Foster</td>\n      <td>Cat</td>\n      <td>Intact Female</td>\n      <td>1 year</td>\n      <td>Siamese</td>\n      <td>Blue Point</td>\n      <td>365.0</td>\n      <td>female</td>\n    </tr>\n    <tr>\n      <th>3</th>\n      <td>A817154</td>\n      <td>*Marinara</td>\n      <td>2020-05-17T12:21:00.000</td>\n      <td>2020-05-17T12:21:00.000</td>\n      <td>2019-11-24</td>\n      <td>Adoption</td>\n      <td>no_type_or_subtype</td>\n      <td>Dog</td>\n      <td>Spayed Female</td>\n      <td>5 months</td>\n      <td>Australian Cattle Dog/Labrador Retriever</td>\n      <td>Black Brindle</td>\n      <td>1825.0</td>\n      <td>female</td>\n    </tr>\n    <tr>\n      <th>4</th>\n      <td>A816636</td>\n      <td>Sugar</td>\n      <td>2020-05-17T12:03:00.000</td>\n      <td>2020-05-17T12:03:00.000</td>\n      <td>2019-05-14</td>\n      <td>Rto-Adopt</td>\n      <td>no_type_or_subtype</td>\n      <td>Cat</td>\n      <td>Neutered Male</td>\n      <td>1 year</td>\n      <td>Domestic Shorthair</td>\n      <td>Brown Tabby</td>\n      <td>365.0</td>\n      <td>male</td>\n    </tr>\n  </tbody>\n</table>\n</div>"
     },
     "metadata": {},
     "execution_count": 96
    }
   ],
   "source": [
    "animals.head()"
   ]
  },
  {
   "cell_type": "code",
   "execution_count": 92,
   "metadata": {},
   "outputs": [
    {
     "output_type": "execute_result",
     "data": {
      "text/plain": "days_upon_outcome    1315.363484\nName: Dog, dtype: float64"
     },
     "metadata": {},
     "execution_count": 92
    }
   ],
   "source": [
    "dog_days_std = animals.groupby('animal_type').std().loc['Dog']\n",
    "dog_days_mean = animals.groupby('animal_type').mean().loc['Dog']\n",
    "dog_days_mean"
   ]
  },
  {
   "cell_type": "code",
   "execution_count": 145,
   "metadata": {},
   "outputs": [
    {
     "output_type": "execute_result",
     "data": {
      "text/plain": "False    927\nTrue      73\nName: days_upon_outcome, dtype: int64"
     },
     "metadata": {},
     "execution_count": 145
    }
   ],
   "source": [
    "dog_days_mean = animals.groupby('animal_type').mean().loc['Dog']\n",
    "dog_days_std = animals.groupby('animal_type').std().loc['Dog']\n",
    "(animals.days_upon_outcome > int(dog_days_mean + dog_days_std*2)).value_counts()"
   ]
  },
  {
   "cell_type": "code",
   "execution_count": 157,
   "metadata": {},
   "outputs": [],
   "source": [
    "# let's make a boolean column that crease a boolean for old dogs that get adopted \n",
    "\n",
    "def old_dogs_adopted(row):\n",
    "\n",
    "    '''\n",
    "    Parameter: Row from the Austin Animal Shelter\n",
    "    Returns: Boolean signifying records of old dogs that were adopted\n",
    "    '''\n",
    "    \n",
    "    if (\n",
    "                row['animal_type'] == 'Dog')\\\n",
    "                and (row['outcome_type'] =='Adoption')\\\n",
    "                and (row['days_upon_outcome'] > int(dog_days_mean + dog_days_std*2)):\n",
    "        return True\n",
    "\n",
    "    else:\n",
    "        return False\n",
    "\n",
    "animals['old_adopted_dogs'] = animals.apply(old_dogs_adopted, axis = 1)"
   ]
  },
  {
   "cell_type": "code",
   "execution_count": 159,
   "metadata": {},
   "outputs": [
    {
     "output_type": "execute_result",
     "data": {
      "text/plain": "    animal_id            name                 datetime  \\\n21    A815992          *Sadie  2020-05-16T13:18:00.000   \n35    A817148         *Pickle  2020-05-15T12:58:00.000   \n55    A816641             Max  2020-05-14T09:34:00.000   \n67    A816783           *Fern  2020-05-13T12:47:00.000   \n191   A815198          *Donut  2020-05-05T09:02:00.000   \n310   A643015            Mojo  2020-04-24T15:30:00.000   \n311   A796805           *Etta  2020-04-24T14:34:00.000   \n330   A416147        Champion  2020-04-21T14:28:00.000   \n357   A811827             *Bo  2020-04-20T17:02:00.000   \n400   A809473          Roscoe  2020-04-16T10:46:00.000   \n434   A791217         Starsky  2020-04-15T10:59:00.000   \n517   A799458           Zilan  2020-04-08T11:02:00.000   \n519   A813943          Caesar  2020-04-08T09:12:00.000   \n521   A815689             Max  2020-04-07T13:47:00.000   \n565   A815181         *Dexter  2020-04-05T08:30:00.000   \n624   A784940          Stella  2020-04-01T08:55:00.000   \n719   A815217  *Charlie Brown  2020-03-26T14:55:00.000   \n738   A809388           *Remy  2020-03-25T16:30:00.000   \n911   A813916            Luna  2020-03-17T17:15:00.000   \n954   A810616             Zoe  2020-03-16T16:34:00.000   \n\n                   monthyear date_of_birth outcome_type     outcome_subtype  \\\n21   2020-05-16T13:18:00.000    2010-04-02     Adoption              Foster   \n35   2020-05-15T12:58:00.000    2019-07-08     Adoption  no_type_or_subtype   \n55   2020-05-14T09:34:00.000    2019-05-23     Adoption              Foster   \n67   2020-05-13T12:47:00.000    2019-05-27     Adoption  no_type_or_subtype   \n191  2020-05-05T09:02:00.000    2010-04-06     Adoption              Foster   \n310  2020-04-24T15:30:00.000    2008-12-03     Adoption              Foster   \n311  2020-04-24T14:34:00.000    2009-06-05     Adoption              Foster   \n330  2020-04-21T14:28:00.000    2005-11-03     Adoption              Foster   \n357  2020-04-20T17:02:00.000    2019-06-10     Adoption              Foster   \n400  2020-04-16T10:46:00.000    2009-11-25     Adoption              Foster   \n434  2020-04-15T10:59:00.000    2007-03-22     Adoption              Foster   \n517  2020-04-08T11:02:00.000    2019-05-08     Adoption              Foster   \n519  2020-04-08T09:12:00.000    2008-03-31     Adoption              Foster   \n521  2020-04-07T13:47:00.000    2019-04-23     Adoption              Foster   \n565  2020-04-05T08:30:00.000    2019-05-11     Adoption              Foster   \n624  2020-04-01T08:55:00.000    2008-11-23     Adoption              Foster   \n719  2020-03-26T14:55:00.000    2019-04-12     Adoption              Foster   \n738  2020-03-25T16:30:00.000    2019-04-23     Adoption              Foster   \n911  2020-03-17T17:15:00.000    2019-03-20     Adoption  no_type_or_subtype   \n954  2020-03-16T16:34:00.000    2019-04-16     Adoption  no_type_or_subtype   \n\n    animal_type sex_upon_outcome age_upon_outcome  \\\n21          Dog    Spayed Female         10 years   \n35          Dog    Neutered Male        10 months   \n55          Dog    Neutered Male        11 months   \n67          Dog    Spayed Female        11 months   \n191         Dog    Spayed Female         10 years   \n310         Dog    Neutered Male         11 years   \n311         Dog    Spayed Female         10 years   \n330         Dog    Neutered Male         14 years   \n357         Dog    Neutered Male        10 months   \n400         Dog    Neutered Male         10 years   \n434         Dog    Neutered Male         13 years   \n517         Dog    Spayed Female        11 months   \n519         Dog    Neutered Male         12 years   \n521         Dog    Neutered Male        11 months   \n565         Dog    Neutered Male        10 months   \n624         Dog    Spayed Female         11 years   \n719         Dog    Neutered Male        11 months   \n738         Dog    Neutered Male        11 months   \n911         Dog    Spayed Female        11 months   \n954         Dog    Spayed Female        11 months   \n\n                                  breed        color  days_upon_outcome  \\\n21   Labrador Retriever/German Shepherd          Tan             3650.0   \n35                      German Shepherd  Brown/Black             3650.0   \n55                  German Shepherd Mix        Sable             4015.0   \n67                             Pit Bull    Tan/White             4015.0   \n191                     Rat Terrier Mix     Tricolor             3650.0   \n310                               Boxer  Brown/White             4015.0   \n311                  Labrador Retriever    Tan/White             3650.0   \n330              Labrador Retriever Mix  Black/White             5110.0   \n357                 German Shepherd Mix          Tan             3650.0   \n400                  Labrador Retriever    Chocolate             3650.0   \n434                   Border Collie Mix  Black/White             4745.0   \n517                            Pit Bull   Blue/White             4015.0   \n519                  Labrador Retriever    Chocolate             4380.0   \n521                      Siberian Husky    Red/White             4015.0   \n565              Labrador Retriever Mix          Tan             3650.0   \n624           Australian Cattle Dog Mix    Tan/White             4015.0   \n719                        Pit Bull Mix  Brown/White             4015.0   \n738                        Pit Bull Mix  White/Brown             4015.0   \n911                      Bearded Collie  Brown/Black             4015.0   \n954     Border Terrier/Scottish Terrier  Black/White             4015.0   \n\n        sex  old_adopted_dogs  \n21   female              True  \n35     male              True  \n55     male              True  \n67   female              True  \n191  female              True  \n310    male              True  \n311  female              True  \n330    male              True  \n357    male              True  \n400    male              True  \n434    male              True  \n517  female              True  \n519    male              True  \n521    male              True  \n565    male              True  \n624  female              True  \n719    male              True  \n738    male              True  \n911  female              True  \n954  female              True  ",
      "text/html": "<div>\n<style scoped>\n    .dataframe tbody tr th:only-of-type {\n        vertical-align: middle;\n    }\n\n    .dataframe tbody tr th {\n        vertical-align: top;\n    }\n\n    .dataframe thead th {\n        text-align: right;\n    }\n</style>\n<table border=\"1\" class=\"dataframe\">\n  <thead>\n    <tr style=\"text-align: right;\">\n      <th></th>\n      <th>animal_id</th>\n      <th>name</th>\n      <th>datetime</th>\n      <th>monthyear</th>\n      <th>date_of_birth</th>\n      <th>outcome_type</th>\n      <th>outcome_subtype</th>\n      <th>animal_type</th>\n      <th>sex_upon_outcome</th>\n      <th>age_upon_outcome</th>\n      <th>breed</th>\n      <th>color</th>\n      <th>days_upon_outcome</th>\n      <th>sex</th>\n      <th>old_adopted_dogs</th>\n    </tr>\n  </thead>\n  <tbody>\n    <tr>\n      <th>21</th>\n      <td>A815992</td>\n      <td>*Sadie</td>\n      <td>2020-05-16T13:18:00.000</td>\n      <td>2020-05-16T13:18:00.000</td>\n      <td>2010-04-02</td>\n      <td>Adoption</td>\n      <td>Foster</td>\n      <td>Dog</td>\n      <td>Spayed Female</td>\n      <td>10 years</td>\n      <td>Labrador Retriever/German Shepherd</td>\n      <td>Tan</td>\n      <td>3650.0</td>\n      <td>female</td>\n      <td>True</td>\n    </tr>\n    <tr>\n      <th>35</th>\n      <td>A817148</td>\n      <td>*Pickle</td>\n      <td>2020-05-15T12:58:00.000</td>\n      <td>2020-05-15T12:58:00.000</td>\n      <td>2019-07-08</td>\n      <td>Adoption</td>\n      <td>no_type_or_subtype</td>\n      <td>Dog</td>\n      <td>Neutered Male</td>\n      <td>10 months</td>\n      <td>German Shepherd</td>\n      <td>Brown/Black</td>\n      <td>3650.0</td>\n      <td>male</td>\n      <td>True</td>\n    </tr>\n    <tr>\n      <th>55</th>\n      <td>A816641</td>\n      <td>Max</td>\n      <td>2020-05-14T09:34:00.000</td>\n      <td>2020-05-14T09:34:00.000</td>\n      <td>2019-05-23</td>\n      <td>Adoption</td>\n      <td>Foster</td>\n      <td>Dog</td>\n      <td>Neutered Male</td>\n      <td>11 months</td>\n      <td>German Shepherd Mix</td>\n      <td>Sable</td>\n      <td>4015.0</td>\n      <td>male</td>\n      <td>True</td>\n    </tr>\n    <tr>\n      <th>67</th>\n      <td>A816783</td>\n      <td>*Fern</td>\n      <td>2020-05-13T12:47:00.000</td>\n      <td>2020-05-13T12:47:00.000</td>\n      <td>2019-05-27</td>\n      <td>Adoption</td>\n      <td>no_type_or_subtype</td>\n      <td>Dog</td>\n      <td>Spayed Female</td>\n      <td>11 months</td>\n      <td>Pit Bull</td>\n      <td>Tan/White</td>\n      <td>4015.0</td>\n      <td>female</td>\n      <td>True</td>\n    </tr>\n    <tr>\n      <th>191</th>\n      <td>A815198</td>\n      <td>*Donut</td>\n      <td>2020-05-05T09:02:00.000</td>\n      <td>2020-05-05T09:02:00.000</td>\n      <td>2010-04-06</td>\n      <td>Adoption</td>\n      <td>Foster</td>\n      <td>Dog</td>\n      <td>Spayed Female</td>\n      <td>10 years</td>\n      <td>Rat Terrier Mix</td>\n      <td>Tricolor</td>\n      <td>3650.0</td>\n      <td>female</td>\n      <td>True</td>\n    </tr>\n    <tr>\n      <th>310</th>\n      <td>A643015</td>\n      <td>Mojo</td>\n      <td>2020-04-24T15:30:00.000</td>\n      <td>2020-04-24T15:30:00.000</td>\n      <td>2008-12-03</td>\n      <td>Adoption</td>\n      <td>Foster</td>\n      <td>Dog</td>\n      <td>Neutered Male</td>\n      <td>11 years</td>\n      <td>Boxer</td>\n      <td>Brown/White</td>\n      <td>4015.0</td>\n      <td>male</td>\n      <td>True</td>\n    </tr>\n    <tr>\n      <th>311</th>\n      <td>A796805</td>\n      <td>*Etta</td>\n      <td>2020-04-24T14:34:00.000</td>\n      <td>2020-04-24T14:34:00.000</td>\n      <td>2009-06-05</td>\n      <td>Adoption</td>\n      <td>Foster</td>\n      <td>Dog</td>\n      <td>Spayed Female</td>\n      <td>10 years</td>\n      <td>Labrador Retriever</td>\n      <td>Tan/White</td>\n      <td>3650.0</td>\n      <td>female</td>\n      <td>True</td>\n    </tr>\n    <tr>\n      <th>330</th>\n      <td>A416147</td>\n      <td>Champion</td>\n      <td>2020-04-21T14:28:00.000</td>\n      <td>2020-04-21T14:28:00.000</td>\n      <td>2005-11-03</td>\n      <td>Adoption</td>\n      <td>Foster</td>\n      <td>Dog</td>\n      <td>Neutered Male</td>\n      <td>14 years</td>\n      <td>Labrador Retriever Mix</td>\n      <td>Black/White</td>\n      <td>5110.0</td>\n      <td>male</td>\n      <td>True</td>\n    </tr>\n    <tr>\n      <th>357</th>\n      <td>A811827</td>\n      <td>*Bo</td>\n      <td>2020-04-20T17:02:00.000</td>\n      <td>2020-04-20T17:02:00.000</td>\n      <td>2019-06-10</td>\n      <td>Adoption</td>\n      <td>Foster</td>\n      <td>Dog</td>\n      <td>Neutered Male</td>\n      <td>10 months</td>\n      <td>German Shepherd Mix</td>\n      <td>Tan</td>\n      <td>3650.0</td>\n      <td>male</td>\n      <td>True</td>\n    </tr>\n    <tr>\n      <th>400</th>\n      <td>A809473</td>\n      <td>Roscoe</td>\n      <td>2020-04-16T10:46:00.000</td>\n      <td>2020-04-16T10:46:00.000</td>\n      <td>2009-11-25</td>\n      <td>Adoption</td>\n      <td>Foster</td>\n      <td>Dog</td>\n      <td>Neutered Male</td>\n      <td>10 years</td>\n      <td>Labrador Retriever</td>\n      <td>Chocolate</td>\n      <td>3650.0</td>\n      <td>male</td>\n      <td>True</td>\n    </tr>\n    <tr>\n      <th>434</th>\n      <td>A791217</td>\n      <td>Starsky</td>\n      <td>2020-04-15T10:59:00.000</td>\n      <td>2020-04-15T10:59:00.000</td>\n      <td>2007-03-22</td>\n      <td>Adoption</td>\n      <td>Foster</td>\n      <td>Dog</td>\n      <td>Neutered Male</td>\n      <td>13 years</td>\n      <td>Border Collie Mix</td>\n      <td>Black/White</td>\n      <td>4745.0</td>\n      <td>male</td>\n      <td>True</td>\n    </tr>\n    <tr>\n      <th>517</th>\n      <td>A799458</td>\n      <td>Zilan</td>\n      <td>2020-04-08T11:02:00.000</td>\n      <td>2020-04-08T11:02:00.000</td>\n      <td>2019-05-08</td>\n      <td>Adoption</td>\n      <td>Foster</td>\n      <td>Dog</td>\n      <td>Spayed Female</td>\n      <td>11 months</td>\n      <td>Pit Bull</td>\n      <td>Blue/White</td>\n      <td>4015.0</td>\n      <td>female</td>\n      <td>True</td>\n    </tr>\n    <tr>\n      <th>519</th>\n      <td>A813943</td>\n      <td>Caesar</td>\n      <td>2020-04-08T09:12:00.000</td>\n      <td>2020-04-08T09:12:00.000</td>\n      <td>2008-03-31</td>\n      <td>Adoption</td>\n      <td>Foster</td>\n      <td>Dog</td>\n      <td>Neutered Male</td>\n      <td>12 years</td>\n      <td>Labrador Retriever</td>\n      <td>Chocolate</td>\n      <td>4380.0</td>\n      <td>male</td>\n      <td>True</td>\n    </tr>\n    <tr>\n      <th>521</th>\n      <td>A815689</td>\n      <td>Max</td>\n      <td>2020-04-07T13:47:00.000</td>\n      <td>2020-04-07T13:47:00.000</td>\n      <td>2019-04-23</td>\n      <td>Adoption</td>\n      <td>Foster</td>\n      <td>Dog</td>\n      <td>Neutered Male</td>\n      <td>11 months</td>\n      <td>Siberian Husky</td>\n      <td>Red/White</td>\n      <td>4015.0</td>\n      <td>male</td>\n      <td>True</td>\n    </tr>\n    <tr>\n      <th>565</th>\n      <td>A815181</td>\n      <td>*Dexter</td>\n      <td>2020-04-05T08:30:00.000</td>\n      <td>2020-04-05T08:30:00.000</td>\n      <td>2019-05-11</td>\n      <td>Adoption</td>\n      <td>Foster</td>\n      <td>Dog</td>\n      <td>Neutered Male</td>\n      <td>10 months</td>\n      <td>Labrador Retriever Mix</td>\n      <td>Tan</td>\n      <td>3650.0</td>\n      <td>male</td>\n      <td>True</td>\n    </tr>\n    <tr>\n      <th>624</th>\n      <td>A784940</td>\n      <td>Stella</td>\n      <td>2020-04-01T08:55:00.000</td>\n      <td>2020-04-01T08:55:00.000</td>\n      <td>2008-11-23</td>\n      <td>Adoption</td>\n      <td>Foster</td>\n      <td>Dog</td>\n      <td>Spayed Female</td>\n      <td>11 years</td>\n      <td>Australian Cattle Dog Mix</td>\n      <td>Tan/White</td>\n      <td>4015.0</td>\n      <td>female</td>\n      <td>True</td>\n    </tr>\n    <tr>\n      <th>719</th>\n      <td>A815217</td>\n      <td>*Charlie Brown</td>\n      <td>2020-03-26T14:55:00.000</td>\n      <td>2020-03-26T14:55:00.000</td>\n      <td>2019-04-12</td>\n      <td>Adoption</td>\n      <td>Foster</td>\n      <td>Dog</td>\n      <td>Neutered Male</td>\n      <td>11 months</td>\n      <td>Pit Bull Mix</td>\n      <td>Brown/White</td>\n      <td>4015.0</td>\n      <td>male</td>\n      <td>True</td>\n    </tr>\n    <tr>\n      <th>738</th>\n      <td>A809388</td>\n      <td>*Remy</td>\n      <td>2020-03-25T16:30:00.000</td>\n      <td>2020-03-25T16:30:00.000</td>\n      <td>2019-04-23</td>\n      <td>Adoption</td>\n      <td>Foster</td>\n      <td>Dog</td>\n      <td>Neutered Male</td>\n      <td>11 months</td>\n      <td>Pit Bull Mix</td>\n      <td>White/Brown</td>\n      <td>4015.0</td>\n      <td>male</td>\n      <td>True</td>\n    </tr>\n    <tr>\n      <th>911</th>\n      <td>A813916</td>\n      <td>Luna</td>\n      <td>2020-03-17T17:15:00.000</td>\n      <td>2020-03-17T17:15:00.000</td>\n      <td>2019-03-20</td>\n      <td>Adoption</td>\n      <td>no_type_or_subtype</td>\n      <td>Dog</td>\n      <td>Spayed Female</td>\n      <td>11 months</td>\n      <td>Bearded Collie</td>\n      <td>Brown/Black</td>\n      <td>4015.0</td>\n      <td>female</td>\n      <td>True</td>\n    </tr>\n    <tr>\n      <th>954</th>\n      <td>A810616</td>\n      <td>Zoe</td>\n      <td>2020-03-16T16:34:00.000</td>\n      <td>2020-03-16T16:34:00.000</td>\n      <td>2019-04-16</td>\n      <td>Adoption</td>\n      <td>no_type_or_subtype</td>\n      <td>Dog</td>\n      <td>Spayed Female</td>\n      <td>11 months</td>\n      <td>Border Terrier/Scottish Terrier</td>\n      <td>Black/White</td>\n      <td>4015.0</td>\n      <td>female</td>\n      <td>True</td>\n    </tr>\n  </tbody>\n</table>\n</div>"
     },
     "metadata": {},
     "execution_count": 159
    }
   ],
   "source": [
    "animals[animals.old_adopted_dogs == True]"
   ]
  },
  {
   "cell_type": "markdown",
   "metadata": {},
   "source": [
    "### DataFrame.apply()\n",
    "DataFrame.apply() takes a function as a parameter, and applies it every element of an axis.  It is especially useful if we want to use logic that compares multiple column values."
   ]
  },
  {
   "cell_type": "code",
   "execution_count": 118,
   "metadata": {},
   "outputs": [
    {
     "output_type": "execute_result",
     "data": {
      "text/plain": "True     597\nFalse    403\ndtype: int64"
     },
     "metadata": {},
     "execution_count": 118
    }
   ],
   "source": [
    "\n",
    "nimal Shelter dataset\n",
    "    Returns; A boolean denoting if the record is an adopted old dog.\n",
    "    '''\n",
    "\n",
    "    if row['animal_type'] == 'Dog'  :\n",
    "        return True\n",
    "    else:\n",
    "        return False\n",
    "\n",
    "animals.apply(old_dogs_adopted, axis=1).value_counts()\n"
   ]
  },
  {
   "cell_type": "markdown",
   "metadata": {},
   "source": [
    "### Anonymous Functions (Lambda Abstraction)"
   ]
  },
  {
   "cell_type": "markdown",
   "metadata": {},
   "source": [
    "Simple functions can be defined right in the function call. This is called 'lambda abstraction'; the function thus defined has no name and hence is \"anonymous\"."
   ]
  },
  {
   "cell_type": "code",
   "execution_count": null,
   "metadata": {},
   "outputs": [],
   "source": []
  },
  {
   "cell_type": "code",
   "execution_count": null,
   "metadata": {},
   "outputs": [],
   "source": []
  },
  {
   "cell_type": "markdown",
   "metadata": {},
   "source": [
    "# Student Screen Share (without answer directly below)\n",
    "Use another lambda function to convert days days upon outcome to weeks upon outcome <br>\n"
   ]
  },
  {
   "cell_type": "code",
   "execution_count": null,
   "metadata": {},
   "outputs": [],
   "source": [
    "# your code here"
   ]
  },
  {
   "cell_type": "code",
   "execution_count": null,
   "metadata": {},
   "outputs": [],
   "source": [
    "#__SOLUTION__\n",
    "animals['days_upon_outcome'].map(lambda x: x//7)"
   ]
  },
  {
   "cell_type": "markdown",
   "metadata": {},
   "source": [
    "### 2. Methods for Re-Organizing DataFrames: .groupby()"
   ]
  },
  {
   "cell_type": "markdown",
   "metadata": {},
   "source": [
    "Those of you familiar with SQL have probably used the GROUP BY command. (And if you haven't, you'll see it very soon!) Pandas has this, too.\n",
    "\n",
    "The .groupby() method is especially useful for aggregate functions applied to the data grouped in particular ways."
   ]
  },
  {
   "cell_type": "code",
   "execution_count": null,
   "metadata": {},
   "outputs": [],
   "source": [
    "animals.groupby('animal_type')"
   ]
  },
  {
   "cell_type": "code",
   "execution_count": null,
   "metadata": {},
   "outputs": [],
   "source": [
    "animals.columns"
   ]
  },
  {
   "cell_type": "markdown",
   "metadata": {},
   "source": [
    "We can group by multiple columns, and also return a DataFrameGroupBy object"
   ]
  },
  {
   "cell_type": "markdown",
   "metadata": {},
   "source": [
    "Notice the object type [DataFrameGroupBy](https://pandas.pydata.org/pandas-docs/stable/user_guide/groupby.html) object. "
   ]
  },
  {
   "cell_type": "markdown",
   "metadata": {},
   "source": [
    "#### .groups and .get_group()"
   ]
  },
  {
   "cell_type": "code",
   "execution_count": null,
   "metadata": {},
   "outputs": [],
   "source": [
    "animals.groupby(['animal_type', 'outcome_type'])"
   ]
  },
  {
   "cell_type": "code",
   "execution_count": null,
   "metadata": {},
   "outputs": [],
   "source": [
    "# This retuns each group indexed by the group name: I.E. 'Bird', along with the row indices of each value\n",
    "animals.groupby('animal_type').groups"
   ]
  },
  {
   "cell_type": "markdown",
   "metadata": {},
   "source": [
    "Once we know we are working with a type of object, it opens up a suite of attributes and methods. One attribute we can look at is groups."
   ]
  },
  {
   "cell_type": "code",
   "execution_count": null,
   "metadata": {},
   "outputs": [],
   "source": [
    "animals.groupby('animal_type').get_group('Dog')"
   ]
  },
  {
   "cell_type": "code",
   "execution_count": null,
   "metadata": {},
   "outputs": [],
   "source": [
    "# Once we know the group indices, we can return the groups using those indices."
   ]
  },
  {
   "cell_type": "markdown",
   "metadata": {},
   "source": [
    "#### Aggregating"
   ]
  },
  {
   "cell_type": "code",
   "execution_count": null,
   "metadata": {},
   "outputs": [],
   "source": [
    "# Same goes for multi index groupbys\n",
    "animal_outcome = animals.groupby(['animal_type', 'outcome_type'])\n",
    "animal_outcome.groups\n"
   ]
  },
  {
   "cell_type": "code",
   "execution_count": null,
   "metadata": {},
   "outputs": [],
   "source": [
    "# animal_outcome.groups is a dictionary, so we can access the group names using keys()\n",
    "animal_outcome.groups.keys()"
   ]
  },
  {
   "cell_type": "code",
   "execution_count": null,
   "metadata": {},
   "outputs": [],
   "source": [
    "# We can then get a specific group, such as Cats that were adopted\n",
    "animal_outcome.get_group(('Cat', 'Adoption'))"
   ]
  },
  {
   "cell_type": "code",
   "execution_count": null,
   "metadata": {},
   "outputs": [],
   "source": [
    "# Other methods\n",
    "animal_outcome.first()"
   ]
  },
  {
   "cell_type": "code",
   "execution_count": null,
   "metadata": {},
   "outputs": [],
   "source": [
    "animal_outcome.last()"
   ]
  },
  {
   "cell_type": "code",
   "execution_count": null,
   "metadata": {
    "scrolled": true
   },
   "outputs": [],
   "source": [
    "animals.groupby('animal_type').mean()"
   ]
  },
  {
   "cell_type": "markdown",
   "metadata": {},
   "source": [
    "Once again, as we will see in SQL, in order to return a groupby objects are intended to be used with aggregation. In SQL, we will see that our queries that include GROUP BY require aggregation performed on columns.\n",
    "\n",
    "We can use sum, mean, count, max, min... Find a list of common aggregations [here](https://pandas.pydata.org/pandas-docs/stable/user_guide/groupby.html)"
   ]
  },
  {
   "cell_type": "code",
   "execution_count": null,
   "metadata": {},
   "outputs": [],
   "source": [
    "# Group by multiple indices\n",
    "animals.groupby(['animal_type', 'outcome_type']).get_group(('Cat', 'Transfer')).describe()"
   ]
  }
 ],
 "metadata": {
  "kernelspec": {
   "display_name": "Python 3",
   "language": "python",
   "name": "python3"
  },
  "language_info": {
   "codemirror_mode": {
    "name": "ipython",
    "version": 3
   },
   "file_extension": ".py",
   "mimetype": "text/x-python",
   "name": "python",
   "nbconvert_exporter": "python",
   "pygments_lexer": "ipython3",
   "version": "3.6.9-final"
  }
 },
 "nbformat": 4,
 "nbformat_minor": 4
}