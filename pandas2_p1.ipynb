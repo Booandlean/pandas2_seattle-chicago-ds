{
 "cells": [
  {
   "cell_type": "markdown",
   "metadata": {},
   "source": [
    "# More Pandas"
   ]
  },
  {
   "cell_type": "markdown",
   "metadata": {},
   "source": [
    "![more_pandas](https://media.giphy.com/media/H0Qi5W2KzU5UI/giphy.gif)"
   ]
  },
  {
   "cell_type": "markdown",
   "metadata": {},
   "source": [
    "### Introduction\n",
    "You have decided that you want to start your own animal shelter, but you want to get an idea of what that will entail and to get more information about planning. In this lecture, we'll look at a real data set collected by Austin Animal Center over several years and use our pandas skills from the last lecture and learn some new ones in order to explore this data further.\n",
    "\n",
    "#### Our goals in this notebook are to be able to: <br/>\n",
    "\n",
    "- Apply and use `.map()` and `.applymap()` from the Pandas library\n",
    "- Explain lambda functions and use them on a DataFrame\n",
    "- Explain what a groupby object is and split a DataFrame using `.groupby()`\n"
   ]
  },
  {
   "cell_type": "markdown",
   "metadata": {},
   "source": [
    "#### Getting started\n",
    "\n",
    "Let's take a moment to download and to examine the [Austin Animal Center data set](https://data.austintexas.gov/Health-and-Community-Services/Austin-Animal-Center-Outcomes/9t4d-g238/data). What kinds of questions can we ask this data and what kinds of information can we get back?\n",
    "\n",
    "Let's take a look at the data:"
   ]
  },
  {
   "cell_type": "code",
   "execution_count": null,
   "metadata": {},
   "outputs": [],
   "source": [
    "import numpy as np\n",
    "import pandas as pd\n",
    "import requests\n",
    "\n",
    "url = 'https://data.austintexas.gov/resource/9t4d-g238.json'\n",
    "response = requests.get(url)\n",
    "animals = pd.DataFrame(response.json())"
   ]
  },
  {
   "cell_type": "code",
   "execution_count": null,
   "metadata": {},
   "outputs": [],
   "source": [
    "animals.isnull()"
   ]
  },
  {
   "cell_type": "code",
   "execution_count": null,
   "metadata": {},
   "outputs": [],
   "source": [
    "animals.isnull().sum()"
   ]
  },
  {
   "cell_type": "code",
   "execution_count": null,
   "metadata": {},
   "outputs": [],
   "source": [
    "#animals.fillna('null')"
   ]
  },
  {
   "cell_type": "code",
   "execution_count": null,
   "metadata": {},
   "outputs": [],
   "source": [
    "animals.fillna(np.nan)"
   ]
  },
  {
   "cell_type": "markdown",
   "metadata": {},
   "source": [
    "### 1. Applying and using map and applymap from the Pandas library"
   ]
  },
  {
   "cell_type": "markdown",
   "metadata": {},
   "source": [
    "The Pandas library has several useful tools built in. Let's explore some of them."
   ]
  },
  {
   "cell_type": "markdown",
   "metadata": {},
   "source": [
    "#### DataFrame.applymap() and Series.map()"
   ]
  },
  {
   "cell_type": "markdown",
   "metadata": {},
   "source": [
    "The ```.applymap()``` method takes a function as input that it will then apply to every entry in the dataframe."
   ]
  },
  {
   "cell_type": "code",
   "execution_count": null,
   "metadata": {},
   "outputs": [],
   "source": [
    "animals.applymap(str).head()"
   ]
  },
  {
   "cell_type": "markdown",
   "metadata": {},
   "source": [
    "The **.map()** method takes a function as input that it will then apply to every entry in the Series."
   ]
  },
  {
   "cell_type": "markdown",
   "metadata": {},
   "source": [
    "Let's write a function to consolodate sex_upon_outcome to male, female, or unknown   \n",
    "\n",
    "First, explore the unique values:"
   ]
  },
  {
   "cell_type": "code",
   "execution_count": null,
   "metadata": {},
   "outputs": [],
   "source": [
    "animals['sex_upon_outcome'].unique()"
   ]
  },
  {
   "cell_type": "code",
   "execution_count": null,
   "metadata": {},
   "outputs": [],
   "source": [
    "# we could also us np.unique() with the return_counts parameter\n",
    "\n",
    "np.unique(animals['sex_upon_outcome'], return_counts=True)\n"
   ]
  },
  {
   "cell_type": "code",
   "execution_count": null,
   "metadata": {},
   "outputs": [],
   "source": [
    "def male_or_female(value_from_series):\n",
    "    \n",
    "    \"\"\"\n",
    "    This is a docstring...\n",
    "    \n",
    "    Parameter: a value from the age_upon_outcome series\n",
    "    in the Austin Animal Shelter dataset.  \n",
    "    There are five possible values:\n",
    "    Spayed Female', 'Unknown', 'Intact Female', 'Intact Male',\n",
    "       'Neutered Male'\n",
    "       \n",
    "    Returns:\n",
    "    female, male, unknown\n",
    "    \n",
    "    \"\"\"\n",
    "    \n",
    "    if 'female' in value_from_series.lower():\n",
    "        return 'female'\n",
    "    \n",
    "    \n",
    "    #Add a space before male to ensure that female is not included\n",
    "    elif ' male' in value_from_series.lower():\n",
    "        return 'male'\n",
    "    \n",
    "    else:\n",
    "        return 'unknown'\n",
    "    \n",
    "    \n",
    "animals['sex_upon_outcome'].map(male_or_female)   "
   ]
  },
  {
   "cell_type": "code",
   "execution_count": null,
   "metadata": {},
   "outputs": [],
   "source": [
    "#We can now make a new column, sex:\n",
    "    \n",
    "animals['sex'] = animals['sex_upon_outcome'].map(male_or_female)\n",
    "animals.head()"
   ]
  },
  {
   "cell_type": "markdown",
   "metadata": {},
   "source": [
    "Now let's have some fun.  Let's convert age upon outcome to days, using map():"
   ]
  },
  {
   "cell_type": "code",
   "execution_count": null,
   "metadata": {},
   "outputs": [],
   "source": [
    "# First, checkout what happens when we split on a space\n",
    "\n",
    "list(animals['age_upon_outcome'].str.split(' '))"
   ]
  },
  {
   "cell_type": "code",
   "execution_count": null,
   "metadata": {},
   "outputs": [],
   "source": [
    "# check what values we have for time frame\n",
    "unit_values = [age[0] if age[0] == 'NULL' else age[1] for age in animals['age_upon_outcome'].str.split(' ')]\n",
    "set(unit_values)"
   ]
  },
  {
   "cell_type": "markdown",
   "metadata": {},
   "source": [
    "Now, fill in the definition below to convert the ages to days"
   ]
  },
  {
   "cell_type": "code",
   "execution_count": null,
   "metadata": {},
   "outputs": [],
   "source": [
    "\n",
    "def age_to_days(age):\n",
    "    \n",
    "    '''\n",
    "    params: age upon outcome of shelter animal. \n",
    "    A number followed by a unit of time \n",
    "    'NULL', 'days', 'month', 'months', 'week', 'weeks', 'year', 'years'\n",
    "    \n",
    "    returns: days old at outcome\n",
    "    '''\n",
    "    \n",
    "    age_split = age.split(' ')\n",
    "    \n",
    "    if len(age_split) == 1:\n",
    "        return 'NULL'\n",
    "    \n",
    "    elif ... :\n",
    "        return\n",
    "    \n",
    "    elif ... :\n",
    "         pass\n",
    "    \n",
    "    elif ... :\n",
    "         pass\n",
    "    \n",
    "    else:\n",
    "         pass\n",
    "    \n",
    "    \n",
    "animals['age_upon_outcome'].map(age_to_days)\n"
   ]
  },
  {
   "cell_type": "code",
   "execution_count": null,
   "metadata": {},
   "outputs": [],
   "source": [
    "#__SOLUTION__\n",
    "def age_to_days(age):\n",
    "    \n",
    "    '''\n",
    "    params: age upon outcome of shelter animal. \n",
    "    A number followed by a unit of time \n",
    "    'NULL', 'days', 'month', 'months', 'week', 'weeks', 'year', 'years'\n",
    "    \n",
    "    returns: days old at outcome\n",
    "    '''\n",
    "    \n",
    "    age_split = age.split(' ')\n",
    "    \n",
    "    if len(age_split) == 1:\n",
    "        return np.nan\n",
    "    \n",
    "    elif age_split[1] == 'days':\n",
    "        return int(age_split[0])\n",
    "    \n",
    "    elif 'month' in age_split[1]:\n",
    "        return 30*int(age_split[0])\n",
    "    \n",
    "    elif 'week' in age_split[0]:\n",
    "        return 7 * int(age_split[0])\n",
    "    \n",
    "    else:\n",
    "        return 365 * int(age_split[0])\n",
    "\n",
    "animals['days_at_outcome'] = animals['age_upon_outcome'].map(age_to_days)\n",
    "\n",
    "animals.head()"
   ]
  },
  {
   "cell_type": "markdown",
   "metadata": {},
   "source": [
    "#### Anonymous Functions (Lambda Abstraction)"
   ]
  },
  {
   "cell_type": "markdown",
   "metadata": {},
   "source": [
    "Simple functions can be defined right in the function call. This is called 'lambda abstraction'; the function thus defined has no name and hence is \"anonymous\"."
   ]
  },
  {
   "cell_type": "markdown",
   "metadata": {},
   "source": [
    "Let's use an anonymous function to convert days to weeks"
   ]
  },
  {
   "cell_type": "code",
   "execution_count": null,
   "metadata": {},
   "outputs": [],
   "source": [
    "animals['days_at_outcome'].map(lambda x: x/7)"
   ]
  },
  {
   "cell_type": "markdown",
   "metadata": {},
   "source": [
    "# Your turn\n",
    "Use another lambda function to convert days to dog years <br>\n",
    "1 dy = 7 hy\n",
    "Use round() to round to the "
   ]
  },
  {
   "cell_type": "code",
   "execution_count": null,
   "metadata": {},
   "outputs": [],
   "source": [
    "# your code here"
   ]
  },
  {
   "cell_type": "code",
   "execution_count": null,
   "metadata": {},
   "outputs": [],
   "source": [
    "#__SOLUTION__\n",
    "\n",
    "animals['days_at_outcome'].map(lambda x: np.floor(x/365) * 7)"
   ]
  },
  {
   "cell_type": "code",
   "execution_count": null,
   "metadata": {},
   "outputs": [],
   "source": [
    "How old is the oldest dog?"
   ]
  },
  {
   "cell_type": "code",
   "execution_count": null,
   "metadata": {},
   "outputs": [],
   "source": [
    "How old is the oldest dog"
   ]
  },
  {
   "cell_type": "code",
   "execution_count": null,
   "metadata": {},
   "outputs": [],
   "source": [
    "#__SOLUTION__\n",
    "\n",
    "animals['days_at_outcome'].map(lambda x: np.floor(x/365) * 7).max()"
   ]
  },
  {
   "cell_type": "markdown",
   "metadata": {},
   "source": [
    "### 2. Methods for Re-Organizing DataFrames: .groupby()"
   ]
  },
  {
   "cell_type": "markdown",
   "metadata": {},
   "source": [
    "Those of you familiar with SQL have probably used the GROUP BY command. (And if you haven't, you'll see it very soon!) Pandas has this, too.\n",
    "\n",
    "The .groupby() method is especially useful for aggregate functions applied to the data grouped in particular ways."
   ]
  },
  {
   "cell_type": "code",
   "execution_count": null,
   "metadata": {},
   "outputs": [],
   "source": [
    "animals.groupby('animal_type')"
   ]
  },
  {
   "cell_type": "markdown",
   "metadata": {},
   "source": [
    "#### .groups and .get_group()"
   ]
  },
  {
   "cell_type": "code",
   "execution_count": null,
   "metadata": {},
   "outputs": [],
   "source": [
    "# This retuns each group indexed by the group name: I.E. 'Bird', along with the row indices of each value\n",
    "animals.groupby('animal_type').groups"
   ]
  },
  {
   "cell_type": "code",
   "execution_count": null,
   "metadata": {},
   "outputs": [],
   "source": [
    "animals.groupby('animal_type').get_group('Dog')"
   ]
  },
  {
   "cell_type": "markdown",
   "metadata": {},
   "source": [
    "#### Aggregating"
   ]
  },
  {
   "cell_type": "code",
   "execution_count": null,
   "metadata": {
    "scrolled": true
   },
   "outputs": [],
   "source": [
    "animals.groupby('animal_type').mean()"
   ]
  },
  {
   "cell_type": "markdown",
   "metadata": {},
   "source": [
    "#### Datetime Objects"
   ]
  },
  {
   "cell_type": "markdown",
   "metadata": {},
   "source": [
    "'Datetime' is a special data type for dates. And we can convert an appropriately formatted variable to the datetime type simply by calling `pd.to_datetime()`."
   ]
  },
  {
   "cell_type": "code",
   "execution_count": null,
   "metadata": {},
   "outputs": [],
   "source": [
    "animals['date_of_birth'] = pd.to_datetime(animals['date_of_birth'])"
   ]
  },
  {
   "cell_type": "markdown",
   "metadata": {},
   "source": [
    "One great thing about converting to date time is it allows you to easily access each part of the date."
   ]
  },
  {
   "cell_type": "code",
   "execution_count": null,
   "metadata": {},
   "outputs": [],
   "source": [
    "# Switch day to month to year and see what happens\n",
    "[date.day for date in animals['date_of_birth']]"
   ]
  },
  {
   "cell_type": "markdown",
   "metadata": {},
   "source": [
    "**Exercise: Find the latest date of birth per animal type.**"
   ]
  },
  {
   "cell_type": "code",
   "execution_count": null,
   "metadata": {},
   "outputs": [],
   "source": [
    "# First make sure date_of_birth is a datetime type.\n",
    "# Then group by Animal Type and calculate the max.\n",
    "\n",
    "\n"
   ]
  },
  {
   "cell_type": "code",
   "execution_count": null,
   "metadata": {},
   "outputs": [],
   "source": [
    "#__SOLUTION__\n",
    "animals.groupby('animal_type')['date_of_birth'].max()"
   ]
  },
  {
   "cell_type": "code",
   "execution_count": null,
   "metadata": {},
   "outputs": [],
   "source": []
  }
 ],
 "metadata": {
  "kernelspec": {
   "display_name": "Python 3",
   "language": "python",
   "name": "python3"
  },
  "language_info": {
   "codemirror_mode": {
    "name": "ipython",
    "version": 3
   },
   "file_extension": ".py",
   "mimetype": "text/x-python",
   "name": "python",
   "nbconvert_exporter": "python",
   "pygments_lexer": "ipython3",
   "version": "3.7.3"
  }
 },
 "nbformat": 4,
 "nbformat_minor": 4
}
